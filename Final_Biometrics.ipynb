{
 "cells": [
  {
   "cell_type": "markdown",
   "id": "cdb51f73",
   "metadata": {},
   "source": [
    "# Importing libraries"
   ]
  },
  {
   "cell_type": "code",
   "execution_count": 1,
   "id": "19ebec73",
   "metadata": {},
   "outputs": [],
   "source": [
    "import numpy as np\n",
    "import pandas as pd\n",
    "from matplotlib import pyplot as plt\n",
    "import cv2\n",
    "import os\n",
    "import pillow_heif\n",
    "from sklearn.preprocessing import normalize\n",
    "import matplotlib.patches as mpatches\n",
    "from skfuzzy import membership \n",
    "from skimage.feature import graycomatrix, graycoprops\n",
    "from scipy.fftpack import dct\n",
    "from scipy import stats\n",
    "import pywt\n",
    "from sklearn.decomposition import PCA\n",
    "from sklearn.model_selection import train_test_split\n",
    "from sklearn import svm\n",
    "from sklearn import metrics\n",
    "from sklearn.metrics import ConfusionMatrixDisplay\n",
    "from xgboost import XGBClassifier\n",
    "import xgboost as xgb\n",
    "from xgboost import plot_importance\n",
    "from sklearn.metrics import accuracy_score,roc_curve, auc,recall_score,precision_score\n",
    "from sklearn.feature_selection import SelectFromModel\n",
    "import pickle"
   ]
  },
  {
   "cell_type": "markdown",
   "id": "3e5393dc",
   "metadata": {},
   "source": [
    "# ROI Extraction"
   ]
  },
  {
   "cell_type": "markdown",
   "id": "86880772",
   "metadata": {},
   "source": [
    "### Assigning variables to th Path to Data"
   ]
  },
  {
   "cell_type": "code",
   "execution_count": 155,
   "id": "b8a069e4",
   "metadata": {},
   "outputs": [],
   "source": [
    "Original=\"/Users/himanshuchuri/Desktop/BiometricsVideos/DATASET/Original/\"\n",
    "Display = \"/Users/himanshuchuri/Desktop/BiometricsVideos/DATASET/Spoofed_displayClicked/Display_jpeg/\"\n",
    "Paper = \"/Users/himanshuchuri/Desktop/BiometricsVideos/DATASET/Spoofed_print/JPEG/\""
   ]
  },
  {
   "cell_type": "markdown",
   "id": "74e83557",
   "metadata": {},
   "source": [
    "Note: For ROI of original image consider resize size of +150,-150 and for Page and Display take +300,-300"
   ]
  },
  {
   "cell_type": "markdown",
   "id": "347a30ba",
   "metadata": {},
   "source": [
    "### Extract ROI and save the images in respective folders"
   ]
  },
  {
   "cell_type": "code",
   "execution_count": null,
   "id": "79552905",
   "metadata": {},
   "outputs": [],
   "source": [
    "map_old_path_var = {'Original': Original,'Display':Display,'Paper':Paper}\n",
    "for _,p in map_old_path_var:\n",
    "    files = os.listdir(p)\n",
    "    for fi in files:\n",
    "        if fi.endswith(\".jpeg\") or fi.endswith('.jpg')or fi.endswith(\".JPG\"): # USE _1.JPG for org images, .jpeg for diaplay images\n",
    "            img_original = cv2.imread(p+fi) # Change var name\n",
    "            h, w,_ = img_original.shape # equalized.shape\n",
    "            img_o = cv2.cvtColor(img_original, cv2.COLOR_BGR2GRAY)\n",
    "            img_o = img_o[int(h-0.55*h):int(h),int(0.25*w):int(w-0.25*w)]\n",
    "            h, w = img_o.shape \n",
    "            \n",
    "            mask = cv2.threshold(img_o,200,255,cv2.THRESH_BINARY+cv2.THRESH_OTSU)[1]\n",
    "            kernel = np.ones((3,3), np.uint8)\n",
    "\n",
    "            mask **= cv2.GaussianBlur(mask, (0,0), sigmaX=2.29, sigmaY=2.29, borderType = cv2.BORDER_REPLICATE)\n",
    "            mask = (2*(mask.astype(np.float32))-255).clip(0,250).astype(np.uint8) #hide for print spoof generation\n",
    "            mask = cv2.morphologyEx(mask, cv2.MORPH_OPEN, kernel)\n",
    "            mask = cv2.morphologyEx(mask, cv2.MORPH_CLOSE, kernel)\n",
    "\n",
    "            img_o = cv2.GaussianBlur(mask,(3,3),0)\n",
    "            \n",
    "            img_c = cv2.cvtColor(img_o, cv2.COLOR_GRAY2BGR)\n",
    "            cntrs, _ = cv2.findContours(img_c, cv2.RETR_LIST, cv2.CHAIN_APPROX_SIMPLE)\n",
    "            biggest_area = -1\n",
    "            biggest = None\n",
    "\n",
    "            for cnt in cntrs:\n",
    "                area = cv2.contourArea(cnt)\n",
    "                if biggest_area < area:\n",
    "                    biggest_area = area\n",
    "                    biggest = cnt\n",
    "            cntrs = biggest\n",
    "\n",
    "            epsilon = 0.0000000000000000000000000000001*cv2.arcLength(cntrs,True)\n",
    "            approx = cv2.approxPolyDP(cntrs,epsilon,True)\n",
    "\n",
    "            M = cv2.moments(approx)\n",
    "            h, w = img_o.shape\n",
    "            x_c = M['m10'] // M['m00']\n",
    "            y_c = M['m01'] // M['m00']\n",
    "            \n",
    "            if p=='/Users/himanshuchuri/Desktop/BiometricsVideos/DATASET/Original/':\n",
    "                roi = img_o[int(y_c-150):int(y_c+150),int(x_c-150):int(x_c+150)]#change for Original to +-150 and for Paper/Display to +- 300\n",
    "            else:\n",
    "                roi = img_o[int(y_c-300):int(y_c+300),int(x_c-300):int(x_c+300)]\n",
    "            roi = cv2.resize(roi,(150,150))# uncomment for paper and display\n",
    "            if p=='/Users/himanshuchuri/Desktop/BiometricsVideos/DATASET/Original/':\n",
    "                cv2.imwrite(f\"/Users/himanshuchuri/Desktop/BiometricsVideos/DATASET/interm_data/Original/\"+fi, roi)\n",
    "                \n",
    "            elif p=='/Users/himanshuchuri/Desktop/BiometricsVideos/DATASET/Spoofed_displayClicked/Display_jpeg/':\n",
    "                cv2.imwrite(f\"/Users/himanshuchuri/Desktop/BiometricsVideos/DATASET/interm_data/Display/\"+fi, roi)\n",
    "                \n",
    "            elif p=='/Users/himanshuchuri/Desktop/BiometricsVideos/DATASET/Spoofed_print/JPEG/':\n",
    "                cv2.imwrite(f\"/Users/himanshuchuri/Desktop/BiometricsVideos/DATASET/interm_data/Paper/\"+fi, roi)"
   ]
  },
  {
   "cell_type": "markdown",
   "id": "33351821",
   "metadata": {},
   "source": [
    "### Convert the images to greyscale and resize to 150x150"
   ]
  },
  {
   "cell_type": "code",
   "execution_count": null,
   "id": "0d36de2b",
   "metadata": {},
   "outputs": [],
   "source": [
    "map_interm_path_var = ['Original','Paper','Display']\n",
    "\n",
    "for new_var in map_interm_path_var: \n",
    "    files = os.listdir(f'/Users/himanshuchuri/Desktop/BiometricsVideos/DATASET/Data_with_new_code/{new_var}/')\n",
    "    for fi in files:\n",
    "        if fi.endswith(\".jpeg\") or fi.endswith('.jpg') or fi.endswith(\".JPG\"): # USE _1.JPG for org images, .jpeg for diaplay images\n",
    "            n_img = cv2.imread(f'/Users/himanshuchuri/Desktop/BiometricsVideos/DATASET/Data_with_new_code/{new_var}/'+fi)\n",
    "            gray = cv2.cvtColor(n_img, cv2.COLOR_BGR2GRAY)\n",
    "            clahe = cv2.createCLAHE(clipLimit=2.0, tileGridSize=(8, 8))\n",
    "            equalized = clahe.apply(gray)\n",
    "            roi = cv2.resize(equalized,(150,150))\n",
    "            cv2.imwrite(f\"/Users/himanshuchuri/Desktop/BiometricsVideos/DATASET/Data_with_new_code/{new_var}/\"+fi, roi)\n"
   ]
  },
  {
   "cell_type": "markdown",
   "id": "89cbd2ad",
   "metadata": {},
   "source": [
    "# Feature Extraction"
   ]
  },
  {
   "cell_type": "code",
   "execution_count": 162,
   "id": "4052cc46",
   "metadata": {},
   "outputs": [],
   "source": [
    "def img_skew(img):\n",
    "    h,w = img.shape\n",
    "    mean = img.mean()\n",
    "    var = img.var()\n",
    "    sk = 0\n",
    "    for i in range(h):\n",
    "        for j in range(w):\n",
    "            sk+= ((img[i,j]-mean)**3)\n",
    "    return sk/((w*h)*((var)*(2/3)))\n",
    "\n",
    "def img_kurto(img):\n",
    "    h,w = img.shape\n",
    "    mean = img.mean()\n",
    "    var = img.var()\n",
    "    kurto = 0\n",
    "    for i in range(h):\n",
    "        for j in range(w):\n",
    "            kurto += ((img[i,j]-mean)**4)\n",
    "    return kurto/((h*w)*((var)**2))\n",
    "\n",
    "def split_img(img, N,A):\n",
    "    test = img.reshape(75,75)\n",
    "    split_test = test[0:N-N%A, 0:N-N%A].reshape(N//A, A, -1, A).swapaxes(1, 2).reshape(-1, A, A)\n",
    "    return split_test\n"
   ]
  },
  {
   "cell_type": "code",
   "execution_count": null,
   "id": "6d1f77aa",
   "metadata": {},
   "outputs": [],
   "source": [
    "levels = 256\n",
    "\n",
    "map_new_path_var = ['Original','Paper','Display']\n",
    "\n",
    "pca = PCA(n_components=2)\n",
    "for p in map_new_path_var:\n",
    "    df = pd.DataFrame() \n",
    "    files = os.listdir(p)\n",
    "    for h,fi in enumerate(files):\n",
    "        features = {}\n",
    "        if fi.endswith(\".jpeg\") or fi.endswith(\".jpg\") or fi.endswith(\".JPG\"):#.JPG for org and .jpeg for display\n",
    "            img = cv2.imread(f\"/Users/himanshuchuri/Desktop/BiometricsVideos/DATASET/Data_with_new_code/{p}/\"+fi,cv2.IMREAD_GRAYSCALE) #change path\n",
    "            #Statistical Features\n",
    "            features['mean'] = [img.mean()]\n",
    "            features['pixel_intensity_variance'] = [img.var()]\n",
    "            features['10th_percentile'] = [np.percentile(img, 10)]\n",
    "            features['50th_percentile'] = [np.percentile(img, 50)]\n",
    "            features['90th_percentile'] = [np.percentile(img, 90)]\n",
    "            features['skewness'] = [img_skew(img)]\n",
    "            features['kurtosis'] = [img_kurto(img)]\n",
    "            features['median'] = [np.median(img)]\n",
    "            features['mode'] = [stats.mode(img, axis=None, keepdims=True)[0][:]]\n",
    "            \n",
    "            #GLCM features\n",
    "            glcm = graycomatrix(img, distances=[1], angles=[0], levels=levels,symmetric=True, normed=True)\n",
    "            features['contrast'] = [graycoprops(glcm, 'contrast')[0][0]]\n",
    "            features['correlation'] = [graycoprops(glcm, 'correlation')[0][0]]\n",
    "            features['energy']= [graycoprops(glcm, 'energy')[0][0]]\n",
    "            features['homogeneity']= [graycoprops(glcm, 'homogeneity')[0][0]]\n",
    "            features['entropy']= [graycoprops(glcm, 'homogeneity')[0][0]]\n",
    "            \n",
    "            #DWT coeff.\n",
    "            dwt = pywt.dwt2(img, 'db1')\n",
    "            LL, (LH,HL,HH) = dwt\n",
    "            ll_split = split_img(LL,75,25)\n",
    "            lh_split = split_img(LH,75,15)\n",
    "            hl_split = split_img(HL,75,15)\n",
    "            hh_split = split_img(HH,75,15)\n",
    "            \n",
    "            for k,i in enumerate(ll_split):\n",
    "                features['ll_dct'+'_explained_variance_ratio_'+str(k)+\"_0\"]= [pca.fit(dct(i, 1)).explained_variance_ratio_[0]]\n",
    "                features['ll_dct'+'_explained_variance_ratio_'+str(k)+\"_1\"]= [pca.fit(dct(i, 1)).explained_variance_ratio_[1]]\n",
    "                features['ll_dct'+'_singular_values_'+str(k)+\"_0\"]=[pca.fit(dct(i, 1)).singular_values_[0]]\n",
    "                features['ll_dct'+'_singular_values_'+str(k)+\"_1\"]=[pca.fit(dct(i, 1)).singular_values_[1]]\n",
    "            \n",
    "            for k,i in enumerate(lh_split):\n",
    "                features['lh_dct'+'_explained_variance_ratio_'+str(k)+\"_0\"]=[ pca.fit(dct(i, 1)).explained_variance_ratio_[0]]\n",
    "                features['lh_dct'+'_explained_variance_ratio_'+str(k)+\"_1\"]= [pca.fit(dct(i, 1)).explained_variance_ratio_[1]]\n",
    "                features['lh_dct'+'_singular_values_'+str(k)+\"_0\"]=[pca.fit(dct(i, 1)).singular_values_[0]]\n",
    "                features['lh_dct'+'_singular_values_'+str(k)+\"_1\"]=[pca.fit(dct(i, 1)).singular_values_[1]]\n",
    "                \n",
    "            for k,i in enumerate(hl_split):\n",
    "                features['hl_dct'+'_explained_variance_ratio_'+str(k)+\"_0\"]= [pca.fit(dct(i, 1)).explained_variance_ratio_[0]]\n",
    "                features['hl_dct'+'_explained_variance_ratio_'+str(k)+\"_1\"]= [pca.fit(dct(i, 1)).explained_variance_ratio_[1]]\n",
    "                features['hl_dct'+'_singular_values_'+str(k)+\"_0\"]=[pca.fit(dct(i, 1)).singular_values_[0]]\n",
    "                features['hl_dct'+'_singular_values_'+str(k)+\"_1\"]=[pca.fit(dct(i, 1)).singular_values_[1]]\n",
    "                \n",
    "            for k,i in enumerate(hh_split):\n",
    "                features['hh_dct'+'_explained_variance_ratio_'+str(k)+\"_0\"]=[pca.fit(dct(i, 1)).explained_variance_ratio_[0]]\n",
    "                features['hh_dct'+'_explained_variance_ratio_'+str(k)+\"_1\"]=[pca.fit(dct(i, 1)).explained_variance_ratio_[1]]\n",
    "                features['hh_dct'+'_singular_values_'+str(k)+\"_0\"]=[pca.fit(dct(i, 1)).singular_values_[0]]\n",
    "                features['hh_dct'+'_singular_values_'+str(k)+\"_1\"]=[pca.fit(dct(i, 1)).singular_values_[1]]\n",
    "            df_t = pd.DataFrame(features)\n",
    "            if new_var == 'Original':\n",
    "                df_t['Class'] = 1\n",
    "            elif new_var == 'Paper':\n",
    "                df_t['Class'] = 0\n",
    "            elif new_var == 'Display':\n",
    "                df_t['Class'] = 0\n",
    "        df = pd.concat([df,df_t], ignore_index=True)\n",
    "    df.to_csv(f'/Users/himanshuchuri/Desktop/BiometricsVideos/DATASET/{new_var}_new.csv',index=False)\n",
    "    \n",
    "    # 0 = negative Class => Spoofed => Display & Paper. 1 = Positive Class => Original"
   ]
  },
  {
   "cell_type": "markdown",
   "id": "45cf11b5",
   "metadata": {},
   "source": [
    "# Training"
   ]
  },
  {
   "cell_type": "code",
   "execution_count": 214,
   "id": "74ec0e65",
   "metadata": {},
   "outputs": [],
   "source": [
    "df1 = pd.read_csv(\"/Users/himanshuchuri/Desktop/BiometricsVideos/DATASET/Original_new.csv\")\n",
    "df2 = pd.read_csv(\"/Users/himanshuchuri/Desktop/BiometricsVideos/DATASET/Display_new.csv\")\n",
    "df3 = pd.read_csv('/Users/himanshuchuri/Desktop/BiometricsVideos/DATASET/Paper_new.csv')"
   ]
  },
  {
   "cell_type": "code",
   "execution_count": 215,
   "id": "3c6bd4b9",
   "metadata": {},
   "outputs": [
    {
     "name": "stdout",
     "output_type": "stream",
     "text": [
      "117\n"
     ]
    }
   ],
   "source": [
    "samples_from_d2 = df1.shape[0]-df3.shape[0]\n",
    "print(samples_from_d2)"
   ]
  },
  {
   "cell_type": "code",
   "execution_count": 216,
   "id": "dc702341",
   "metadata": {},
   "outputs": [],
   "source": [
    "new_df2 = df2.sample(n=samples_from_d2,ignore_index=True)\n",
    "df_class1 = pd.concat([df3, new_df2], ignore_index=True).sample(frac=1, random_state=1).reset_index()\n",
    "df_main = pd.concat([df1, df_class1], ignore_index=True).sample(frac=1, random_state=1).reset_index()"
   ]
  },
  {
   "cell_type": "code",
   "execution_count": 217,
   "id": "8d25c497",
   "metadata": {},
   "outputs": [
    {
     "data": {
      "text/html": [
       "<div>\n",
       "<style scoped>\n",
       "    .dataframe tbody tr th:only-of-type {\n",
       "        vertical-align: middle;\n",
       "    }\n",
       "\n",
       "    .dataframe tbody tr th {\n",
       "        vertical-align: top;\n",
       "    }\n",
       "\n",
       "    .dataframe thead th {\n",
       "        text-align: right;\n",
       "    }\n",
       "</style>\n",
       "<table border=\"1\" class=\"dataframe\">\n",
       "  <thead>\n",
       "    <tr style=\"text-align: right;\">\n",
       "      <th></th>\n",
       "      <th>level_0</th>\n",
       "      <th>mean</th>\n",
       "      <th>pixel_intensity_variance</th>\n",
       "      <th>10th_percentile</th>\n",
       "      <th>50th_percentile</th>\n",
       "      <th>90th_percentile</th>\n",
       "      <th>skewness</th>\n",
       "      <th>kurtosis</th>\n",
       "      <th>median</th>\n",
       "      <th>mode</th>\n",
       "      <th>...</th>\n",
       "      <th>hh_dct_explained_variance_ratio_23_0</th>\n",
       "      <th>hh_dct_explained_variance_ratio_23_1</th>\n",
       "      <th>hh_dct_singular_values_23_0</th>\n",
       "      <th>hh_dct_singular_values_23_1</th>\n",
       "      <th>hh_dct_explained_variance_ratio_24_0</th>\n",
       "      <th>hh_dct_explained_variance_ratio_24_1</th>\n",
       "      <th>hh_dct_singular_values_24_0</th>\n",
       "      <th>hh_dct_singular_values_24_1</th>\n",
       "      <th>Class</th>\n",
       "      <th>index</th>\n",
       "    </tr>\n",
       "  </thead>\n",
       "  <tbody>\n",
       "    <tr>\n",
       "      <th>0</th>\n",
       "      <td>330</td>\n",
       "      <td>190.697778</td>\n",
       "      <td>827.773728</td>\n",
       "      <td>151.0</td>\n",
       "      <td>194.0</td>\n",
       "      <td>226.0</td>\n",
       "      <td>-19.947418</td>\n",
       "      <td>2.759805</td>\n",
       "      <td>194.0</td>\n",
       "      <td>209</td>\n",
       "      <td>...</td>\n",
       "      <td>0.347871</td>\n",
       "      <td>0.218072</td>\n",
       "      <td>84.671026</td>\n",
       "      <td>67.038790</td>\n",
       "      <td>0.364579</td>\n",
       "      <td>0.270135</td>\n",
       "      <td>96.171906</td>\n",
       "      <td>82.783295</td>\n",
       "      <td>0</td>\n",
       "      <td>119.0</td>\n",
       "    </tr>\n",
       "    <tr>\n",
       "      <th>1</th>\n",
       "      <td>101</td>\n",
       "      <td>159.260622</td>\n",
       "      <td>1642.545943</td>\n",
       "      <td>112.0</td>\n",
       "      <td>171.0</td>\n",
       "      <td>196.0</td>\n",
       "      <td>-100.579346</td>\n",
       "      <td>5.555284</td>\n",
       "      <td>171.0</td>\n",
       "      <td>183</td>\n",
       "      <td>...</td>\n",
       "      <td>0.360795</td>\n",
       "      <td>0.211192</td>\n",
       "      <td>84.005942</td>\n",
       "      <td>64.271563</td>\n",
       "      <td>0.324604</td>\n",
       "      <td>0.222053</td>\n",
       "      <td>109.006644</td>\n",
       "      <td>90.158035</td>\n",
       "      <td>1</td>\n",
       "      <td>NaN</td>\n",
       "    </tr>\n",
       "    <tr>\n",
       "      <th>2</th>\n",
       "      <td>191</td>\n",
       "      <td>165.415600</td>\n",
       "      <td>1716.638610</td>\n",
       "      <td>92.0</td>\n",
       "      <td>176.0</td>\n",
       "      <td>202.0</td>\n",
       "      <td>-99.996644</td>\n",
       "      <td>5.137681</td>\n",
       "      <td>176.0</td>\n",
       "      <td>182</td>\n",
       "      <td>...</td>\n",
       "      <td>0.270971</td>\n",
       "      <td>0.211413</td>\n",
       "      <td>78.213172</td>\n",
       "      <td>69.085174</td>\n",
       "      <td>0.366719</td>\n",
       "      <td>0.228892</td>\n",
       "      <td>139.923022</td>\n",
       "      <td>110.544534</td>\n",
       "      <td>1</td>\n",
       "      <td>NaN</td>\n",
       "    </tr>\n",
       "    <tr>\n",
       "      <th>3</th>\n",
       "      <td>66</td>\n",
       "      <td>165.059244</td>\n",
       "      <td>1288.506757</td>\n",
       "      <td>116.0</td>\n",
       "      <td>173.0</td>\n",
       "      <td>204.0</td>\n",
       "      <td>-57.760729</td>\n",
       "      <td>4.283456</td>\n",
       "      <td>173.0</td>\n",
       "      <td>182</td>\n",
       "      <td>...</td>\n",
       "      <td>0.372888</td>\n",
       "      <td>0.141395</td>\n",
       "      <td>92.394963</td>\n",
       "      <td>56.895144</td>\n",
       "      <td>0.240813</td>\n",
       "      <td>0.212118</td>\n",
       "      <td>75.115018</td>\n",
       "      <td>70.497816</td>\n",
       "      <td>1</td>\n",
       "      <td>NaN</td>\n",
       "    </tr>\n",
       "    <tr>\n",
       "      <th>4</th>\n",
       "      <td>326</td>\n",
       "      <td>205.951111</td>\n",
       "      <td>622.812099</td>\n",
       "      <td>171.0</td>\n",
       "      <td>210.5</td>\n",
       "      <td>234.0</td>\n",
       "      <td>-32.518063</td>\n",
       "      <td>3.527848</td>\n",
       "      <td>210.5</td>\n",
       "      <td>232</td>\n",
       "      <td>...</td>\n",
       "      <td>0.231890</td>\n",
       "      <td>0.187234</td>\n",
       "      <td>72.735569</td>\n",
       "      <td>65.358012</td>\n",
       "      <td>0.280693</td>\n",
       "      <td>0.237536</td>\n",
       "      <td>58.112502</td>\n",
       "      <td>53.458679</td>\n",
       "      <td>0</td>\n",
       "      <td>220.0</td>\n",
       "    </tr>\n",
       "  </tbody>\n",
       "</table>\n",
       "<p>5 rows × 353 columns</p>\n",
       "</div>"
      ],
      "text/plain": [
       "   level_0        mean  pixel_intensity_variance  10th_percentile  \\\n",
       "0      330  190.697778                827.773728            151.0   \n",
       "1      101  159.260622               1642.545943            112.0   \n",
       "2      191  165.415600               1716.638610             92.0   \n",
       "3       66  165.059244               1288.506757            116.0   \n",
       "4      326  205.951111                622.812099            171.0   \n",
       "\n",
       "   50th_percentile  90th_percentile    skewness  kurtosis  median  mode  ...  \\\n",
       "0            194.0            226.0  -19.947418  2.759805   194.0   209  ...   \n",
       "1            171.0            196.0 -100.579346  5.555284   171.0   183  ...   \n",
       "2            176.0            202.0  -99.996644  5.137681   176.0   182  ...   \n",
       "3            173.0            204.0  -57.760729  4.283456   173.0   182  ...   \n",
       "4            210.5            234.0  -32.518063  3.527848   210.5   232  ...   \n",
       "\n",
       "   hh_dct_explained_variance_ratio_23_0  hh_dct_explained_variance_ratio_23_1  \\\n",
       "0                              0.347871                              0.218072   \n",
       "1                              0.360795                              0.211192   \n",
       "2                              0.270971                              0.211413   \n",
       "3                              0.372888                              0.141395   \n",
       "4                              0.231890                              0.187234   \n",
       "\n",
       "   hh_dct_singular_values_23_0  hh_dct_singular_values_23_1  \\\n",
       "0                    84.671026                    67.038790   \n",
       "1                    84.005942                    64.271563   \n",
       "2                    78.213172                    69.085174   \n",
       "3                    92.394963                    56.895144   \n",
       "4                    72.735569                    65.358012   \n",
       "\n",
       "   hh_dct_explained_variance_ratio_24_0  hh_dct_explained_variance_ratio_24_1  \\\n",
       "0                              0.364579                              0.270135   \n",
       "1                              0.324604                              0.222053   \n",
       "2                              0.366719                              0.228892   \n",
       "3                              0.240813                              0.212118   \n",
       "4                              0.280693                              0.237536   \n",
       "\n",
       "   hh_dct_singular_values_24_0  hh_dct_singular_values_24_1  Class  index  \n",
       "0                    96.171906                    82.783295      0  119.0  \n",
       "1                   109.006644                    90.158035      1    NaN  \n",
       "2                   139.923022                   110.544534      1    NaN  \n",
       "3                    75.115018                    70.497816      1    NaN  \n",
       "4                    58.112502                    53.458679      0  220.0  \n",
       "\n",
       "[5 rows x 353 columns]"
      ]
     },
     "execution_count": 217,
     "metadata": {},
     "output_type": "execute_result"
    }
   ],
   "source": [
    "df_main.head()"
   ]
  },
  {
   "cell_type": "code",
   "execution_count": 218,
   "id": "becef3c0",
   "metadata": {},
   "outputs": [],
   "source": [
    "df_main = df_main.drop(['index','level_0'],axis=1)"
   ]
  },
  {
   "cell_type": "code",
   "execution_count": 219,
   "id": "633873fe",
   "metadata": {},
   "outputs": [
    {
     "data": {
      "text/html": [
       "<div>\n",
       "<style scoped>\n",
       "    .dataframe tbody tr th:only-of-type {\n",
       "        vertical-align: middle;\n",
       "    }\n",
       "\n",
       "    .dataframe tbody tr th {\n",
       "        vertical-align: top;\n",
       "    }\n",
       "\n",
       "    .dataframe thead th {\n",
       "        text-align: right;\n",
       "    }\n",
       "</style>\n",
       "<table border=\"1\" class=\"dataframe\">\n",
       "  <thead>\n",
       "    <tr style=\"text-align: right;\">\n",
       "      <th></th>\n",
       "      <th>mean</th>\n",
       "      <th>pixel_intensity_variance</th>\n",
       "      <th>10th_percentile</th>\n",
       "      <th>50th_percentile</th>\n",
       "      <th>90th_percentile</th>\n",
       "      <th>skewness</th>\n",
       "      <th>kurtosis</th>\n",
       "      <th>median</th>\n",
       "      <th>mode</th>\n",
       "      <th>contrast</th>\n",
       "      <th>...</th>\n",
       "      <th>hh_dct_singular_values_22_1</th>\n",
       "      <th>hh_dct_explained_variance_ratio_23_0</th>\n",
       "      <th>hh_dct_explained_variance_ratio_23_1</th>\n",
       "      <th>hh_dct_singular_values_23_0</th>\n",
       "      <th>hh_dct_singular_values_23_1</th>\n",
       "      <th>hh_dct_explained_variance_ratio_24_0</th>\n",
       "      <th>hh_dct_explained_variance_ratio_24_1</th>\n",
       "      <th>hh_dct_singular_values_24_0</th>\n",
       "      <th>hh_dct_singular_values_24_1</th>\n",
       "      <th>Class</th>\n",
       "    </tr>\n",
       "  </thead>\n",
       "  <tbody>\n",
       "    <tr>\n",
       "      <th>0</th>\n",
       "      <td>190.697778</td>\n",
       "      <td>827.773728</td>\n",
       "      <td>151.0</td>\n",
       "      <td>194.0</td>\n",
       "      <td>226.0</td>\n",
       "      <td>-19.947418</td>\n",
       "      <td>2.759805</td>\n",
       "      <td>194.0</td>\n",
       "      <td>209</td>\n",
       "      <td>34.209128</td>\n",
       "      <td>...</td>\n",
       "      <td>67.150725</td>\n",
       "      <td>0.347871</td>\n",
       "      <td>0.218072</td>\n",
       "      <td>84.671026</td>\n",
       "      <td>67.038790</td>\n",
       "      <td>0.364579</td>\n",
       "      <td>0.270135</td>\n",
       "      <td>96.171906</td>\n",
       "      <td>82.783295</td>\n",
       "      <td>0</td>\n",
       "    </tr>\n",
       "    <tr>\n",
       "      <th>1</th>\n",
       "      <td>159.260622</td>\n",
       "      <td>1642.545943</td>\n",
       "      <td>112.0</td>\n",
       "      <td>171.0</td>\n",
       "      <td>196.0</td>\n",
       "      <td>-100.579346</td>\n",
       "      <td>5.555284</td>\n",
       "      <td>171.0</td>\n",
       "      <td>183</td>\n",
       "      <td>49.724474</td>\n",
       "      <td>...</td>\n",
       "      <td>71.641063</td>\n",
       "      <td>0.360795</td>\n",
       "      <td>0.211192</td>\n",
       "      <td>84.005942</td>\n",
       "      <td>64.271563</td>\n",
       "      <td>0.324604</td>\n",
       "      <td>0.222053</td>\n",
       "      <td>109.006644</td>\n",
       "      <td>90.158035</td>\n",
       "      <td>1</td>\n",
       "    </tr>\n",
       "    <tr>\n",
       "      <th>2</th>\n",
       "      <td>165.415600</td>\n",
       "      <td>1716.638610</td>\n",
       "      <td>92.0</td>\n",
       "      <td>176.0</td>\n",
       "      <td>202.0</td>\n",
       "      <td>-99.996644</td>\n",
       "      <td>5.137681</td>\n",
       "      <td>176.0</td>\n",
       "      <td>182</td>\n",
       "      <td>40.621566</td>\n",
       "      <td>...</td>\n",
       "      <td>63.063701</td>\n",
       "      <td>0.270971</td>\n",
       "      <td>0.211413</td>\n",
       "      <td>78.213172</td>\n",
       "      <td>69.085174</td>\n",
       "      <td>0.366719</td>\n",
       "      <td>0.228892</td>\n",
       "      <td>139.923022</td>\n",
       "      <td>110.544534</td>\n",
       "      <td>1</td>\n",
       "    </tr>\n",
       "    <tr>\n",
       "      <th>3</th>\n",
       "      <td>165.059244</td>\n",
       "      <td>1288.506757</td>\n",
       "      <td>116.0</td>\n",
       "      <td>173.0</td>\n",
       "      <td>204.0</td>\n",
       "      <td>-57.760729</td>\n",
       "      <td>4.283456</td>\n",
       "      <td>173.0</td>\n",
       "      <td>182</td>\n",
       "      <td>100.680045</td>\n",
       "      <td>...</td>\n",
       "      <td>82.019914</td>\n",
       "      <td>0.372888</td>\n",
       "      <td>0.141395</td>\n",
       "      <td>92.394963</td>\n",
       "      <td>56.895144</td>\n",
       "      <td>0.240813</td>\n",
       "      <td>0.212118</td>\n",
       "      <td>75.115018</td>\n",
       "      <td>70.497816</td>\n",
       "      <td>1</td>\n",
       "    </tr>\n",
       "    <tr>\n",
       "      <th>4</th>\n",
       "      <td>205.951111</td>\n",
       "      <td>622.812099</td>\n",
       "      <td>171.0</td>\n",
       "      <td>210.5</td>\n",
       "      <td>234.0</td>\n",
       "      <td>-32.518063</td>\n",
       "      <td>3.527848</td>\n",
       "      <td>210.5</td>\n",
       "      <td>232</td>\n",
       "      <td>22.493781</td>\n",
       "      <td>...</td>\n",
       "      <td>54.110500</td>\n",
       "      <td>0.231890</td>\n",
       "      <td>0.187234</td>\n",
       "      <td>72.735569</td>\n",
       "      <td>65.358012</td>\n",
       "      <td>0.280693</td>\n",
       "      <td>0.237536</td>\n",
       "      <td>58.112502</td>\n",
       "      <td>53.458679</td>\n",
       "      <td>0</td>\n",
       "    </tr>\n",
       "  </tbody>\n",
       "</table>\n",
       "<p>5 rows × 351 columns</p>\n",
       "</div>"
      ],
      "text/plain": [
       "         mean  pixel_intensity_variance  10th_percentile  50th_percentile  \\\n",
       "0  190.697778                827.773728            151.0            194.0   \n",
       "1  159.260622               1642.545943            112.0            171.0   \n",
       "2  165.415600               1716.638610             92.0            176.0   \n",
       "3  165.059244               1288.506757            116.0            173.0   \n",
       "4  205.951111                622.812099            171.0            210.5   \n",
       "\n",
       "   90th_percentile    skewness  kurtosis  median  mode    contrast  ...  \\\n",
       "0            226.0  -19.947418  2.759805   194.0   209   34.209128  ...   \n",
       "1            196.0 -100.579346  5.555284   171.0   183   49.724474  ...   \n",
       "2            202.0  -99.996644  5.137681   176.0   182   40.621566  ...   \n",
       "3            204.0  -57.760729  4.283456   173.0   182  100.680045  ...   \n",
       "4            234.0  -32.518063  3.527848   210.5   232   22.493781  ...   \n",
       "\n",
       "   hh_dct_singular_values_22_1  hh_dct_explained_variance_ratio_23_0  \\\n",
       "0                    67.150725                              0.347871   \n",
       "1                    71.641063                              0.360795   \n",
       "2                    63.063701                              0.270971   \n",
       "3                    82.019914                              0.372888   \n",
       "4                    54.110500                              0.231890   \n",
       "\n",
       "   hh_dct_explained_variance_ratio_23_1  hh_dct_singular_values_23_0  \\\n",
       "0                              0.218072                    84.671026   \n",
       "1                              0.211192                    84.005942   \n",
       "2                              0.211413                    78.213172   \n",
       "3                              0.141395                    92.394963   \n",
       "4                              0.187234                    72.735569   \n",
       "\n",
       "   hh_dct_singular_values_23_1  hh_dct_explained_variance_ratio_24_0  \\\n",
       "0                    67.038790                              0.364579   \n",
       "1                    64.271563                              0.324604   \n",
       "2                    69.085174                              0.366719   \n",
       "3                    56.895144                              0.240813   \n",
       "4                    65.358012                              0.280693   \n",
       "\n",
       "   hh_dct_explained_variance_ratio_24_1  hh_dct_singular_values_24_0  \\\n",
       "0                              0.270135                    96.171906   \n",
       "1                              0.222053                   109.006644   \n",
       "2                              0.228892                   139.923022   \n",
       "3                              0.212118                    75.115018   \n",
       "4                              0.237536                    58.112502   \n",
       "\n",
       "   hh_dct_singular_values_24_1  Class  \n",
       "0                    82.783295      0  \n",
       "1                    90.158035      1  \n",
       "2                   110.544534      1  \n",
       "3                    70.497816      1  \n",
       "4                    53.458679      0  \n",
       "\n",
       "[5 rows x 351 columns]"
      ]
     },
     "execution_count": 219,
     "metadata": {},
     "output_type": "execute_result"
    }
   ],
   "source": [
    "df_main.head()"
   ]
  },
  {
   "cell_type": "code",
   "execution_count": 220,
   "id": "b319f703",
   "metadata": {},
   "outputs": [],
   "source": [
    "X,y = df_main.drop(['Class'], axis=1), df_main['Class'] "
   ]
  },
  {
   "cell_type": "code",
   "execution_count": 221,
   "id": "672b1aa6",
   "metadata": {},
   "outputs": [],
   "source": [
    "X_train, X_test, y_train, y_test = train_test_split(X, y, test_size=0.25, random_state=3928)"
   ]
  },
  {
   "cell_type": "code",
   "execution_count": 222,
   "id": "09729cca",
   "metadata": {},
   "outputs": [],
   "source": [
    "X_val, X_test, y_val, y_test =  train_test_split(X_test, y_test, test_size=0.3, random_state=694833)"
   ]
  },
  {
   "cell_type": "markdown",
   "id": "02f59599",
   "metadata": {},
   "source": [
    "# Training"
   ]
  },
  {
   "cell_type": "markdown",
   "id": "f6dc6aa4",
   "metadata": {},
   "source": [
    "## SVM"
   ]
  },
  {
   "cell_type": "code",
   "execution_count": 223,
   "id": "1fde00bd",
   "metadata": {},
   "outputs": [],
   "source": [
    "clf = svm.SVC(kernel='poly',C=(10**100),gamma=0.005)\n",
    "clf.fit(X_train, y_train)\n",
    "y_pred = clf.predict(X_test)"
   ]
  },
  {
   "cell_type": "code",
   "execution_count": 224,
   "id": "80866542",
   "metadata": {},
   "outputs": [
    {
     "name": "stdout",
     "output_type": "stream",
     "text": [
      "Accuracy: 0.8571428571428571\n",
      "Precision: 0.7647058823529411\n",
      "Recall: 0.9285714285714286\n",
      "F1 score: 0.8387096774193549\n",
      "ROC AUC score: 0.8690476190476191\n"
     ]
    }
   ],
   "source": [
    "print(\"Accuracy:\",metrics.accuracy_score(y_test, y_pred))\n",
    "print(\"Precision:\",metrics.precision_score(y_test, y_pred))\n",
    "print(\"Recall:\",metrics.recall_score(y_test, y_pred))\n",
    "print(\"F1 score:\",metrics.f1_score(y_test, y_pred))\n",
    "print(\"ROC AUC score:\",metrics.roc_auc_score(y_test, y_pred))"
   ]
  },
  {
   "cell_type": "code",
   "execution_count": 225,
   "id": "d97e074f",
   "metadata": {},
   "outputs": [
    {
     "name": "stdout",
     "output_type": "stream",
     "text": [
      "[[17  4]\n",
      " [ 1 13]]\n"
     ]
    },
    {
     "data": {
      "image/png": "[encoded data removed]",
      "text/plain": [
       "<Figure size 432x288 with 2 Axes>"
      ]
     },
     "metadata": {
      "needs_background": "light"
     },
     "output_type": "display_data"
    }
   ],
   "source": [
    "disp = ConfusionMatrixDisplay.from_estimator(clf,X_test,y_test,display_labels=['Spoofed','Not-Spoofed'],cmap=plt.cm.Blues)\n",
    "disp.ax_.set_title('Linear SVM')    \n",
    "print(disp.confusion_matrix)"
   ]
  },
  {
   "cell_type": "markdown",
   "id": "475095dc",
   "metadata": {},
   "source": [
    "### Saving the model"
   ]
  },
  {
   "cell_type": "code",
   "execution_count": null,
   "id": "fb5148a3",
   "metadata": {},
   "outputs": [],
   "source": [
    "filename = 'svm_model_new_85p.sav'\n",
    "pickle.dump(clf, open('/Users/himanshuchuri/Desktop/BiometricsVideos/DATASET/New_Saved_models/'+filename, 'wb'))"
   ]
  },
  {
   "cell_type": "markdown",
   "id": "67466864",
   "metadata": {},
   "source": [
    "## XGBoost"
   ]
  },
  {
   "cell_type": "code",
   "execution_count": 227,
   "id": "280508f4",
   "metadata": {},
   "outputs": [],
   "source": [
    "columns = list(df_main.columns)[:-1]"
   ]
  },
  {
   "cell_type": "code",
   "execution_count": 228,
   "id": "414223af",
   "metadata": {},
   "outputs": [],
   "source": [
    "evaluation_set = [(X_test, y_test)]"
   ]
  },
  {
   "cell_type": "code",
   "execution_count": 229,
   "id": "948799a9",
   "metadata": {},
   "outputs": [],
   "source": [
    "model = XGBClassifier( scale_pos_weight=1,\n",
    "                      learning_rate=0.045,  \n",
    "                      colsample_bytree = 1,\n",
    "                      subsample = 0.3,\n",
    "                      objective='reg:squarederror', \n",
    "                      n_estimators=9500, \n",
    "                      reg_alpha = 0.3,\n",
    "                      max_depth=5, \n",
    "                      gamma=5,\n",
    "                      early_stopping_rounds=10)"
   ]
  },
  {
   "cell_type": "code",
   "execution_count": 230,
   "id": "90fa9234",
   "metadata": {},
   "outputs": [
    {
     "name": "stdout",
     "output_type": "stream",
     "text": [
      "[0]\tvalidation_0-rmse:0.49321\n",
      "[1]\tvalidation_0-rmse:0.48455\n",
      "[2]\tvalidation_0-rmse:0.47576\n",
      "[3]\tvalidation_0-rmse:0.46678\n",
      "[4]\tvalidation_0-rmse:0.45842\n",
      "[5]\tvalidation_0-rmse:0.45197\n",
      "[6]\tvalidation_0-rmse:0.44267\n",
      "[7]\tvalidation_0-rmse:0.43668\n",
      "[8]\tvalidation_0-rmse:0.43045\n",
      "[9]\tvalidation_0-rmse:0.42977\n",
      "[10]\tvalidation_0-rmse:0.42351\n",
      "[11]\tvalidation_0-rmse:0.41686\n",
      "[12]\tvalidation_0-rmse:0.41184\n",
      "[13]\tvalidation_0-rmse:0.40676\n",
      "[14]\tvalidation_0-rmse:0.40362\n",
      "[15]\tvalidation_0-rmse:0.39840\n",
      "[16]\tvalidation_0-rmse:0.39404\n",
      "[17]\tvalidation_0-rmse:0.39432\n",
      "[18]\tvalidation_0-rmse:0.38979\n",
      "[19]\tvalidation_0-rmse:0.38925\n",
      "[20]\tvalidation_0-rmse:0.38771\n",
      "[21]\tvalidation_0-rmse:0.38779\n",
      "[22]\tvalidation_0-rmse:0.38513\n",
      "[23]\tvalidation_0-rmse:0.38512\n",
      "[24]\tvalidation_0-rmse:0.38515\n",
      "[25]\tvalidation_0-rmse:0.38521\n",
      "[26]\tvalidation_0-rmse:0.38537\n",
      "[27]\tvalidation_0-rmse:0.38029\n",
      "[28]\tvalidation_0-rmse:0.38049\n",
      "[29]\tvalidation_0-rmse:0.38047\n",
      "[30]\tvalidation_0-rmse:0.38062\n",
      "[31]\tvalidation_0-rmse:0.38041\n",
      "[32]\tvalidation_0-rmse:0.38027\n",
      "[33]\tvalidation_0-rmse:0.38061\n",
      "[34]\tvalidation_0-rmse:0.38063\n",
      "[35]\tvalidation_0-rmse:0.38078\n",
      "[36]\tvalidation_0-rmse:0.38094\n",
      "[37]\tvalidation_0-rmse:0.38104\n",
      "[38]\tvalidation_0-rmse:0.38139\n",
      "[39]\tvalidation_0-rmse:0.38131\n",
      "[40]\tvalidation_0-rmse:0.38112\n",
      "[41]\tvalidation_0-rmse:0.38130\n",
      "[42]\tvalidation_0-rmse:0.38145\n"
     ]
    },
    {
     "data": {
      "text/html": [
       "<style>#sk-container-id-1 {color: black;background-color: white;}#sk-container-id-1 pre{padding: 0;}#sk-container-id-1 div.sk-toggleable {background-color: white;}#sk-container-id-1 label.sk-toggleable__label {cursor: pointer;display: block;width: 100%;margin-bottom: 0;padding: 0.3em;box-sizing: border-box;text-align: center;}#sk-container-id-1 label.sk-toggleable__label-arrow:before {content: \"▸\";float: left;margin-right: 0.25em;color: #696969;}#sk-container-id-1 label.sk-toggleable__label-arrow:hover:before {color: black;}#sk-container-id-1 div.sk-estimator:hover label.sk-toggleable__label-arrow:before {color: black;}#sk-container-id-1 div.sk-toggleable__content {max-height: 0;max-width: 0;overflow: hidden;text-align: left;background-color: #f0f8ff;}#sk-container-id-1 div.sk-toggleable__content pre {margin: 0.2em;color: black;border-radius: 0.25em;background-color: #f0f8ff;}#sk-container-id-1 input.sk-toggleable__control:checked~div.sk-toggleable__content {max-height: 200px;max-width: 100%;overflow: auto;}#sk-container-id-1 input.sk-toggleable__control:checked~label.sk-toggleable__label-arrow:before {content: \"▾\";}#sk-container-id-1 div.sk-estimator input.sk-toggleable__control:checked~label.sk-toggleable__label {background-color: #d4ebff;}#sk-container-id-1 div.sk-label input.sk-toggleable__control:checked~label.sk-toggleable__label {background-color: #d4ebff;}#sk-container-id-1 input.sk-hidden--visually {border: 0;clip: rect(1px 1px 1px 1px);clip: rect(1px, 1px, 1px, 1px);height: 1px;margin: -1px;overflow: hidden;padding: 0;position: absolute;width: 1px;}#sk-container-id-1 div.sk-estimator {font-family: monospace;background-color: #f0f8ff;border: 1px dotted black;border-radius: 0.25em;box-sizing: border-box;margin-bottom: 0.5em;}#sk-container-id-1 div.sk-estimator:hover {background-color: #d4ebff;}#sk-container-id-1 div.sk-parallel-item::after {content: \"\";width: 100%;border-bottom: 1px solid gray;flex-grow: 1;}#sk-container-id-1 div.sk-label:hover label.sk-toggleable__label {background-color: #d4ebff;}#sk-container-id-1 div.sk-serial::before {content: \"\";position: absolute;border-left: 1px solid gray;box-sizing: border-box;top: 0;bottom: 0;left: 50%;z-index: 0;}#sk-container-id-1 div.sk-serial {display: flex;flex-direction: column;align-items: center;background-color: white;padding-right: 0.2em;padding-left: 0.2em;position: relative;}#sk-container-id-1 div.sk-item {position: relative;z-index: 1;}#sk-container-id-1 div.sk-parallel {display: flex;align-items: stretch;justify-content: center;background-color: white;position: relative;}#sk-container-id-1 div.sk-item::before, #sk-container-id-1 div.sk-parallel-item::before {content: \"\";position: absolute;border-left: 1px solid gray;box-sizing: border-box;top: 0;bottom: 0;left: 50%;z-index: -1;}#sk-container-id-1 div.sk-parallel-item {display: flex;flex-direction: column;z-index: 1;position: relative;background-color: white;}#sk-container-id-1 div.sk-parallel-item:first-child::after {align-self: flex-end;width: 50%;}#sk-container-id-1 div.sk-parallel-item:last-child::after {align-self: flex-start;width: 50%;}#sk-container-id-1 div.sk-parallel-item:only-child::after {width: 0;}#sk-container-id-1 div.sk-dashed-wrapped {border: 1px dashed gray;margin: 0 0.4em 0.5em 0.4em;box-sizing: border-box;padding-bottom: 0.4em;background-color: white;}#sk-container-id-1 div.sk-label label {font-family: monospace;font-weight: bold;display: inline-block;line-height: 1.2em;}#sk-container-id-1 div.sk-label-container {text-align: center;}#sk-container-id-1 div.sk-container {/* jupyter's `normalize.less` sets `[hidden] { display: none; }` but bootstrap.min.css set `[hidden] { display: none !important; }` so we also need the `!important` here to be able to override the default hidden behavior on the sphinx rendered scikit-learn.org. See: https://github.com/scikit-learn/scikit-learn/issues/21755 */display: inline-block !important;position: relative;}#sk-container-id-1 div.sk-text-repr-fallback {display: none;}</style><div id=\"sk-container-id-1\" class=\"sk-top-container\"><div class=\"sk-text-repr-fallback\"><pre>XGBClassifier(base_score=0.5, booster=&#x27;gbtree&#x27;, callbacks=None,\n",
       "              colsample_bylevel=1, colsample_bynode=1, colsample_bytree=1,\n",
       "              early_stopping_rounds=10, enable_categorical=False,\n",
       "              eval_metric=None, feature_types=None, gamma=5, gpu_id=-1,\n",
       "              grow_policy=&#x27;depthwise&#x27;, importance_type=None,\n",
       "              interaction_constraints=&#x27;&#x27;, learning_rate=0.045, max_bin=256,\n",
       "              max_cat_threshold=64, max_cat_to_onehot=4, max_delta_step=0,\n",
       "              max_depth=5, max_leaves=0, min_child_weight=1, missing=nan,\n",
       "              monotone_constraints=&#x27;()&#x27;, n_estimators=9500, n_jobs=0,\n",
       "              num_parallel_tree=1, objective=&#x27;reg:squarederror&#x27;,\n",
       "              predictor=&#x27;auto&#x27;, ...)</pre><b>In a Jupyter environment, please rerun this cell to show the HTML representation or trust the notebook. <br />On GitHub, the HTML representation is unable to render, please try loading this page with nbviewer.org.</b></div><div class=\"sk-container\" hidden><div class=\"sk-item\"><div class=\"sk-estimator sk-toggleable\"><input class=\"sk-toggleable__control sk-hidden--visually\" id=\"sk-estimator-id-1\" type=\"checkbox\" checked><label for=\"sk-estimator-id-1\" class=\"sk-toggleable__label sk-toggleable__label-arrow\">XGBClassifier</label><div class=\"sk-toggleable__content\"><pre>XGBClassifier(base_score=0.5, booster=&#x27;gbtree&#x27;, callbacks=None,\n",
       "              colsample_bylevel=1, colsample_bynode=1, colsample_bytree=1,\n",
       "              early_stopping_rounds=10, enable_categorical=False,\n",
       "              eval_metric=None, feature_types=None, gamma=5, gpu_id=-1,\n",
       "              grow_policy=&#x27;depthwise&#x27;, importance_type=None,\n",
       "              interaction_constraints=&#x27;&#x27;, learning_rate=0.045, max_bin=256,\n",
       "              max_cat_threshold=64, max_cat_to_onehot=4, max_delta_step=0,\n",
       "              max_depth=5, max_leaves=0, min_child_weight=1, missing=nan,\n",
       "              monotone_constraints=&#x27;()&#x27;, n_estimators=9500, n_jobs=0,\n",
       "              num_parallel_tree=1, objective=&#x27;reg:squarederror&#x27;,\n",
       "              predictor=&#x27;auto&#x27;, ...)</pre></div></div></div></div></div>"
      ],
      "text/plain": [
       "XGBClassifier(base_score=0.5, booster='gbtree', callbacks=None,\n",
       "              colsample_bylevel=1, colsample_bynode=1, colsample_bytree=1,\n",
       "              early_stopping_rounds=10, enable_categorical=False,\n",
       "              eval_metric=None, feature_types=None, gamma=5, gpu_id=-1,\n",
       "              grow_policy='depthwise', importance_type=None,\n",
       "              interaction_constraints='', learning_rate=0.045, max_bin=256,\n",
       "              max_cat_threshold=64, max_cat_to_onehot=4, max_delta_step=0,\n",
       "              max_depth=5, max_leaves=0, min_child_weight=1, missing=nan,\n",
       "              monotone_constraints='()', n_estimators=9500, n_jobs=0,\n",
       "              num_parallel_tree=1, objective='reg:squarederror',\n",
       "              predictor='auto', ...)"
      ]
     },
     "execution_count": 230,
     "metadata": {},
     "output_type": "execute_result"
    }
   ],
   "source": [
    "model.fit(X_train, y_train.values.ravel(),eval_set=evaluation_set)"
   ]
  },
  {
   "cell_type": "code",
   "execution_count": 231,
   "id": "ff376856",
   "metadata": {},
   "outputs": [],
   "source": [
    "y_pred = model.predict(X_val)\n",
    "predictions = [round(value) for value in y_pred]"
   ]
  },
  {
   "cell_type": "code",
   "execution_count": 232,
   "id": "fa5ae09e",
   "metadata": {},
   "outputs": [
    {
     "name": "stdout",
     "output_type": "stream",
     "text": [
      "Accuracy: 83.95%\n"
     ]
    }
   ],
   "source": [
    "accuracy = accuracy_score(y_val, predictions)\n",
    "print(\"Accuracy: %.2f%%\" % (accuracy * 100.0))"
   ]
  },
  {
   "cell_type": "code",
   "execution_count": 233,
   "id": "69e3d2ca",
   "metadata": {},
   "outputs": [
    {
     "data": {
      "image/png": "[encoded data removed]",
      "text/plain": [
       "<Figure size 1800x1440 with 1 Axes>"
      ]
     },
     "metadata": {
      "needs_background": "light"
     },
     "output_type": "display_data"
    }
   ],
   "source": [
    "f,a = plt.subplots(figsize=(25,20))\n",
    "plot_importance(model,ax=a)\n",
    "plt.show()"
   ]
  },
  {
   "cell_type": "code",
   "execution_count": 234,
   "id": "853bd44c",
   "metadata": {},
   "outputs": [
    {
     "data": {
      "image/png": "[encoded data removed]",
      "text/plain": [
       "<Figure size 432x288 with 1 Axes>"
      ]
     },
     "metadata": {
      "needs_background": "light"
     },
     "output_type": "display_data"
    }
   ],
   "source": [
    "fpr, tpr, _ = roc_curve(y_val, predictions)\n",
    "roc_auc = auc(fpr, tpr)\n",
    "plt.figure()\n",
    "lw = 2\n",
    "plt.plot(fpr, tpr, color='darkorange',lw=lw, label='ROC curve (area = %0.2f)' % roc_auc)\n",
    "plt.plot([0, 1], [0, 1], color='navy', lw=lw, linestyle='--')\n",
    "plt.xlim([0.01, 1.01])\n",
    "plt.ylim([0.01, 1.01])\n",
    "plt.xlabel('False Positive Rate')\n",
    "plt.ylabel('True Positive Rate')\n",
    "plt.title('ROC curve')\n",
    "plt.legend(loc=\"lower right\")\n",
    "plt.show()"
   ]
  },
  {
   "cell_type": "code",
   "execution_count": 235,
   "id": "305bc412",
   "metadata": {},
   "outputs": [],
   "source": [
    "model.save_model(\"/Users/himanshuchuri/Desktop/BiometricsVideos/DATASET/New_Saved_models/new_model_xgboost_83p.json\")"
   ]
  },
  {
   "cell_type": "markdown",
   "id": "9ec4f8e2",
   "metadata": {},
   "source": [
    "# Testing "
   ]
  },
  {
   "cell_type": "markdown",
   "id": "009fe318",
   "metadata": {},
   "source": [
    "## Loading Model and testing - ONLY DONE ON ROI PROCESSED IMAGES"
   ]
  },
  {
   "cell_type": "markdown",
   "id": "9dee280b",
   "metadata": {},
   "source": [
    "### Class 0 = Spoofed and Class 1 = Real"
   ]
  },
  {
   "cell_type": "markdown",
   "id": "6ecaf698",
   "metadata": {},
   "source": [
    "### Input: region of interest of palmprint"
   ]
  },
  {
   "cell_type": "markdown",
   "id": "5298d70d",
   "metadata": {},
   "source": [
    "#### Imports for testing"
   ]
  },
  {
   "cell_type": "code",
   "execution_count": 1,
   "id": "a62abcee",
   "metadata": {},
   "outputs": [],
   "source": [
    "import numpy as np\n",
    "import pandas as pd\n",
    "from matplotlib import pyplot as plt\n",
    "import cv2\n",
    "import os\n",
    "import pillow_heif\n",
    "from sklearn.preprocessing import normalize\n",
    "from skfuzzy import membership \n",
    "from skimage.feature import graycomatrix, graycoprops\n",
    "from scipy.fftpack import dct\n",
    "from scipy import stats\n",
    "import pywt\n",
    "from sklearn.decomposition import PCA\n",
    "import pandas as pd\n",
    "import numpy as np\n",
    "from sklearn.model_selection import train_test_split\n",
    "from sklearn import svm\n",
    "from sklearn import metrics\n",
    "import matplotlib.pyplot as plt\n",
    "from sklearn.metrics import ConfusionMatrixDisplay\n",
    "from xgboost import XGBClassifier\n",
    "import xgboost as xgb\n",
    "from xgboost import plot_importance\n",
    "from sklearn.metrics import accuracy_score,roc_curve, auc,recall_score,precision_score\n",
    "from sklearn.feature_selection import SelectFromModel\n",
    "import pickle"
   ]
  },
  {
   "cell_type": "markdown",
   "id": "9bd3c67c",
   "metadata": {},
   "source": [
    "#### Generating features for test images"
   ]
  },
  {
   "cell_type": "code",
   "execution_count": 2,
   "id": "d2083afc",
   "metadata": {},
   "outputs": [],
   "source": [
    "def img_skew(img):\n",
    "    h,w = img.shape\n",
    "    mean = img.mean()\n",
    "    var = img.var()\n",
    "    sk = 0\n",
    "    for i in range(h):\n",
    "        for j in range(w):\n",
    "            sk+= ((img[i,j]-mean)**3)\n",
    "    return sk/((w*h)*((var)*(2/3)))\n",
    "\n",
    "def img_kurto(img):\n",
    "    h,w = img.shape\n",
    "    mean = img.mean()\n",
    "    var = img.var()\n",
    "    kurto = 0\n",
    "    for i in range(h):\n",
    "        for j in range(w):\n",
    "            kurto += ((img[i,j]-mean)**4)\n",
    "    return kurto/((h*w)*((var)**2))\n",
    "\n",
    "def split_img(img, N,A):\n",
    "    test = img.reshape(75,75)\n",
    "    split_test = test[0:N-N%A, 0:N-N%A].reshape(N//A, A, -1, A).swapaxes(1, 2).reshape(-1, A, A)\n",
    "    return split_test\n"
   ]
  },
  {
   "cell_type": "code",
   "execution_count": 3,
   "id": "5ed33588",
   "metadata": {},
   "outputs": [],
   "source": [
    "def makedf(fi):\n",
    "    df = pd.DataFrame()\n",
    "    levels = 256\n",
    "\n",
    "    pca = PCA(n_components=2)\n",
    "\n",
    "    features = {}\n",
    "    if fi.endswith(\".jpeg\") or fi.endswith(\".jpg\") or fi.endswith(\".JPG\"):#.JPG for org and .jpeg for display\n",
    "        img = cv2.imread(fi,cv2.IMREAD_GRAYSCALE)\n",
    "        #Statistical Features\n",
    "        features['mean'] = [img.mean()]\n",
    "        features['pixel_intensity_variance'] = [img.var()]\n",
    "        features['10th_percentile'] = [np.percentile(img, 10)]\n",
    "        features['50th_percentile'] = [np.percentile(img, 50)]\n",
    "        features['90th_percentile'] = [np.percentile(img, 90)]\n",
    "        features['skewness'] = [img_skew(img)]\n",
    "        features['kurtosis'] = [img_kurto(img)]\n",
    "        features['median'] = [np.median(img)]\n",
    "        features['mode'] = [stats.mode(img, axis=None, keepdims=True)[0][:]]\n",
    "        \n",
    "        #GLCM features\n",
    "        glcm = graycomatrix(img, distances=[1], angles=[0], levels=levels,symmetric=True, normed=True)\n",
    "        features['contrast'] = [graycoprops(glcm, 'contrast')[0][0]]\n",
    "        features['correlation'] = [graycoprops(glcm, 'correlation')[0][0]]\n",
    "        features['energy']= [graycoprops(glcm, 'energy')[0][0]]\n",
    "        features['homogeneity']= [graycoprops(glcm, 'homogeneity')[0][0]]\n",
    "        features['entropy']= [graycoprops(glcm, 'homogeneity')[0][0]]\n",
    "        \n",
    "        #DWT coeff.\n",
    "        dwt = pywt.dwt2(img, 'db1')\n",
    "        LL, (LH,HL,HH) = dwt\n",
    "        ll_split = split_img(LL,75,25)\n",
    "        lh_split = split_img(LH,75,15)\n",
    "        hl_split = split_img(HL,75,15)\n",
    "        hh_split = split_img(HH,75,15)\n",
    "        \n",
    "        for k,i in enumerate(ll_split):\n",
    "            features['ll_dct'+'_explained_variance_ratio_'+str(k)+\"_0\"]= [pca.fit(dct(i, 1)).explained_variance_ratio_[0]]\n",
    "            features['ll_dct'+'_explained_variance_ratio_'+str(k)+\"_1\"]= [pca.fit(dct(i, 1)).explained_variance_ratio_[1]]\n",
    "            features['ll_dct'+'_singular_values_'+str(k)+\"_0\"]=[pca.fit(dct(i, 1)).singular_values_[0]]\n",
    "            features['ll_dct'+'_singular_values_'+str(k)+\"_1\"]=[pca.fit(dct(i, 1)).singular_values_[1]]\n",
    "        \n",
    "        for k,i in enumerate(lh_split):\n",
    "            features['lh_dct'+'_explained_variance_ratio_'+str(k)+\"_0\"]=[ pca.fit(dct(i, 1)).explained_variance_ratio_[0]]\n",
    "            features['lh_dct'+'_explained_variance_ratio_'+str(k)+\"_1\"]= [pca.fit(dct(i, 1)).explained_variance_ratio_[1]]\n",
    "            features['lh_dct'+'_singular_values_'+str(k)+\"_0\"]=[pca.fit(dct(i, 1)).singular_values_[0]]\n",
    "            features['lh_dct'+'_singular_values_'+str(k)+\"_1\"]=[pca.fit(dct(i, 1)).singular_values_[1]]\n",
    "            \n",
    "        for k,i in enumerate(hl_split):\n",
    "            features['hl_dct'+'_explained_variance_ratio_'+str(k)+\"_0\"]= [pca.fit(dct(i, 1)).explained_variance_ratio_[0]]\n",
    "            features['hl_dct'+'_explained_variance_ratio_'+str(k)+\"_1\"]= [pca.fit(dct(i, 1)).explained_variance_ratio_[1]]\n",
    "            features['hl_dct'+'_singular_values_'+str(k)+\"_0\"]=[pca.fit(dct(i, 1)).singular_values_[0]]\n",
    "            features['hl_dct'+'_singular_values_'+str(k)+\"_1\"]=[pca.fit(dct(i, 1)).singular_values_[1]]\n",
    "            \n",
    "        for k,i in enumerate(hh_split):\n",
    "            features['hh_dct'+'_explained_variance_ratio_'+str(k)+\"_0\"]=[pca.fit(dct(i, 1)).explained_variance_ratio_[0]]\n",
    "            features['hh_dct'+'_explained_variance_ratio_'+str(k)+\"_1\"]=[pca.fit(dct(i, 1)).explained_variance_ratio_[1]]\n",
    "            features['hh_dct'+'_singular_values_'+str(k)+\"_0\"]=[pca.fit(dct(i, 1)).singular_values_[0]]\n",
    "            features['hh_dct'+'_singular_values_'+str(k)+\"_1\"]=[pca.fit(dct(i, 1)).singular_values_[1]]\n",
    "        df_t = pd.DataFrame(features)\n",
    "    df = pd.concat([df,df_t], ignore_index=True)\n",
    "    return df"
   ]
  },
  {
   "cell_type": "markdown",
   "id": "e3f3095b",
   "metadata": {},
   "source": [
    "#### Path to test inputs"
   ]
  },
  {
   "cell_type": "code",
   "execution_count": 4,
   "id": "5db3dc6a",
   "metadata": {},
   "outputs": [],
   "source": [
    "file1 = \"/Users/himanshuchuri/Desktop/BiometricsVideos/DATASET/TestData/test1_real.jpg\"\n",
    "file2 = \"/Users/himanshuchuri/Desktop/BiometricsVideos/DATASET/TestData/test2_real.JPG\"\n",
    "file3 = \"/Users/himanshuchuri/Desktop/BiometricsVideos/DATASET/TestData/test3_s.jpg\"\n",
    "file4 = \"/Users/himanshuchuri/Desktop/BiometricsVideos/DATASET/TestData/test4_real.jpg\"\n",
    "file5 = \"/Users/himanshuchuri/Desktop/BiometricsVideos/DATASET/TestData/test5_real_fr.jpg\"\n",
    "file6 = \"/Users/himanshuchuri/Desktop/BiometricsVideos/DATASET/TestData/IMG_5306.jpg\""
   ]
  },
  {
   "cell_type": "markdown",
   "id": "b3a1eca8",
   "metadata": {},
   "source": [
    "#### storing path to model"
   ]
  },
  {
   "cell_type": "code",
   "execution_count": 5,
   "id": "2b30656f",
   "metadata": {},
   "outputs": [],
   "source": [
    "model_file= \"/Users/himanshuchuri/Desktop/BiometricsVideos/DATASET/New_Saved_models/svm_model_new_85p.sav\""
   ]
  },
  {
   "cell_type": "markdown",
   "id": "a85f176b",
   "metadata": {},
   "source": [
    "#### Loading the stored model"
   ]
  },
  {
   "cell_type": "code",
   "execution_count": 6,
   "id": "fd486aa8",
   "metadata": {},
   "outputs": [],
   "source": [
    "loaded_model = pickle.load(open(model_file, 'rb'))"
   ]
  },
  {
   "cell_type": "markdown",
   "id": "0e8162b2",
   "metadata": {},
   "source": [
    "#### Making prediction using loaded model"
   ]
  },
  {
   "cell_type": "code",
   "execution_count": 7,
   "id": "de47870d",
   "metadata": {},
   "outputs": [
    {
     "name": "stdout",
     "output_type": "stream",
     "text": [
      "Real\n",
      "Real\n",
      "Spoofed\n",
      "Real\n",
      "Spoofed\n",
      "Real\n"
     ]
    }
   ],
   "source": [
    "for f in [file1,file2,file3,file4,file5,file6]:\n",
    "    result = loaded_model.predict(makedf(f))\n",
    "    print(\"Spoofed\" if result==[0] else \"Real\")"
   ]
  },
  {
   "cell_type": "markdown",
   "id": "e2427cf7",
   "metadata": {},
   "source": [
    "Expected Result: file1 = Real; file2 = Real; file3 = Spoofed; file4 = Real; file5 = Real; file6 = Real"
   ]
  }
 ],
 "metadata": {
  "kernelspec": {
   "display_name": "Python 3 (ipykernel)",
   "language": "python",
   "name": "python3"
  },
  "language_info": {
   "codemirror_mode": {
    "name": "ipython",
    "version": 3
   },
   "file_extension": ".py",
   "mimetype": "text/x-python",
   "name": "python",
   "nbconvert_exporter": "python",
   "pygments_lexer": "ipython3",
   "version": "3.9.12"
  }
 },
 "nbformat": 4,
 "nbformat_minor": 5
}
